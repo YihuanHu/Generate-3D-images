{
  "nbformat": 4,
  "nbformat_minor": 0,
  "metadata": {
    "accelerator": "GPU",
    "colab": {
      "name": "Pokemon_Stylegan2_ada_Custom_Training.ipynb",
      "provenance": [],
      "collapsed_sections": []
    },
    "kernelspec": {
      "display_name": "Python 3",
      "language": "python",
      "name": "python3"
    },
    "language_info": {
      "codemirror_mode": {
        "name": "ipython",
        "version": 3
      },
      "file_extension": ".py",
      "mimetype": "text/x-python",
      "name": "python",
      "nbconvert_exporter": "python",
      "pygments_lexer": "ipython3",
      "version": "3.9.0"
    },
    "gpuClass": "standard"
  },
  "cells": [
    {
      "cell_type": "markdown",
      "metadata": {
        "id": "ktqaMJUZuOl7"
      },
      "source": [
        "#Content\n",
        "1.   Prepreocess Images \n",
        "2.   Install StyleGAN2-ADA on your Google Drive\n",
        "3.   Train a custom model\n",
        "4.   Generate images from pre-trained model\n",
        "5.   Latent space exploration\n"
      ]
    },
    {
      "cell_type": "markdown",
      "source": [
        "## Preprocess Images"
      ],
      "metadata": {
        "id": "VTRoduZ4V7ET"
      }
    },
    {
      "cell_type": "code",
      "source": [
        "import PIL\n",
        "import os\n",
        "import os.path\n",
        "from PIL import Image\n",
        "from PIL import Image\n",
        "\n",
        "f = r'/Users/huyihuan/Downloads/images'\n",
        "for file in os.listdir(f):\n",
        "    f_img = f+\"/\"+file\n",
        "    img = Image.open(f_img).convert('RGB')\n",
        "    img = img.resize((256, 256))\n",
        "    img.save(f_img)"
      ],
      "metadata": {
        "id": "KeFokbv6WAA2"
      },
      "execution_count": null,
      "outputs": []
    },
    {
      "cell_type": "markdown",
      "metadata": {
        "id": "5YcUMPQp6ipP"
      },
      "source": [
        "## Install StyleGAN2-ADA on your Google Drive"
      ]
    },
    {
      "cell_type": "markdown",
      "metadata": {
        "id": "SI_i1MwgpzOD"
      },
      "source": [
        "StyleGAN2-ADA only works with Tensorflow 1. Run the next cell before anything else to make sure we’re using TF1 and not TF2.\n"
      ]
    },
    {
      "cell_type": "code",
      "metadata": {
        "id": "iKYAU7Wub3WW",
        "colab": {
          "base_uri": "https://localhost:8080/"
        },
        "outputId": "e8ede1ba-46c1-4b42-9269-9d96c631dca8"
      },
      "source": [
        "%tensorflow_version 1.x\n",
        "!nvidia-smi"
      ],
      "execution_count": null,
      "outputs": [
        {
          "output_type": "stream",
          "name": "stdout",
          "text": [
            "TensorFlow 1.x selected.\n",
            "Sat Jun 18 19:38:45 2022       \n",
            "+-----------------------------------------------------------------------------+\n",
            "| NVIDIA-SMI 460.32.03    Driver Version: 460.32.03    CUDA Version: 11.2     |\n",
            "|-------------------------------+----------------------+----------------------+\n",
            "| GPU  Name        Persistence-M| Bus-Id        Disp.A | Volatile Uncorr. ECC |\n",
            "| Fan  Temp  Perf  Pwr:Usage/Cap|         Memory-Usage | GPU-Util  Compute M. |\n",
            "|                               |                      |               MIG M. |\n",
            "|===============================+======================+======================|\n",
            "|   0  Tesla P100-PCIE...  Off  | 00000000:00:04.0 Off |                    0 |\n",
            "| N/A   37C    P0    27W / 250W |      0MiB / 16280MiB |      0%      Default |\n",
            "|                               |                      |                  N/A |\n",
            "+-------------------------------+----------------------+----------------------+\n",
            "                                                                               \n",
            "+-----------------------------------------------------------------------------+\n",
            "| Processes:                                                                  |\n",
            "|  GPU   GI   CI        PID   Type   Process name                  GPU Memory |\n",
            "|        ID   ID                                                   Usage      |\n",
            "|=============================================================================|\n",
            "|  No running processes found                                                 |\n",
            "+-----------------------------------------------------------------------------+\n"
          ]
        }
      ]
    },
    {
      "cell_type": "markdown",
      "metadata": {
        "id": "19_1uXab3gND"
      },
      "source": [
        "Then, mount Drive to the Colab notebook: "
      ]
    },
    {
      "cell_type": "code",
      "metadata": {
        "id": "pxxYlEKI9Gis",
        "colab": {
          "base_uri": "https://localhost:8080/"
        },
        "outputId": "6f514f99-5bba-47ab-a855-decd311c336f"
      },
      "source": [
        "from google.colab import drive\n",
        "from pathlib import Path\n",
        "\n",
        "content_path = Path('/').absolute() / 'content'\n",
        "drive_path = content_path / 'drive'\n",
        "drive.mount(str(drive_path))"
      ],
      "execution_count": null,
      "outputs": [
        {
          "output_type": "stream",
          "name": "stdout",
          "text": [
            "Drive already mounted at /content/drive; to attempt to forcibly remount, call drive.mount(\"/content/drive\", force_remount=True).\n"
          ]
        }
      ]
    },
    {
      "cell_type": "markdown",
      "metadata": {
        "id": "epV6TDzAjox1"
      },
      "source": [
        "Finally, run this cell to install StyleGAN2-ADA on the Drive. If it is already installed the repository, it will skip the installation process and only check for updates. If it haven’t installed it, it will install all the necessary files. Beside, **in**, **out**, **datasets** and **training** folders are generated for data storage. "
      ]
    },
    {
      "cell_type": "code",
      "metadata": {
        "id": "8HX77jscX2zV",
        "colab": {
          "base_uri": "https://localhost:8080/"
        },
        "outputId": "5b4fb13d-fe3a-4b73-b731-f64842e12d3e"
      },
      "source": [
        "stylegan2_repo_url  = 'https://github.com/dvschultz/stylegan2-ada' # or https://github.com/NVlabs/stylegan2-ada\n",
        "project_path        = drive_path / 'MyDrive' / 'StyleGAN2-ADA'\n",
        "stylegan2_repo_path = project_path / 'stylegan2-ada'\n",
        "\n",
        "# Create project folder if inexistant\n",
        "if not project_path.is_dir():\n",
        "    %mkdir \"{project_path}\"\n",
        "%cd \"{project_path}\"\n",
        "\n",
        "for dir in ['in', 'out', 'datasets', 'training']:\n",
        "    if not (project_path / dir).is_dir():\n",
        "        %mkdir {dir}\n",
        "if not (project_path / 'datasets' / 'source').is_dir():\n",
        "    %mkdir \"{project_path / 'datasets' / 'source'}\"\n",
        "\n",
        "# Download StyleGAN2-ada\n",
        "!git config --global user.name \"GANightSky\"\n",
        "!git config --global user.email \"NightSky@gan.com\"\n",
        "if stylegan2_repo_path.is_dir():\n",
        "    !git -C \"{stylegan2_repo_path}\" fetch origin\n",
        "    !git -C \"{stylegan2_repo_path}\" checkout origin/main -- *.py\n",
        "else:\n",
        "    print(\"Install StyleGAN2-ADA\")\n",
        "    !git clone {stylegan2_repo_url}"
      ],
      "execution_count": null,
      "outputs": [
        {
          "output_type": "stream",
          "name": "stdout",
          "text": [
            "/content/drive/MyDrive/StyleGAN2-ADA\n"
          ]
        }
      ]
    },
    {
      "cell_type": "markdown",
      "metadata": {
        "id": "Ti11YiPAiQpb"
      },
      "source": [
        "## Train a custom model"
      ]
    },
    {
      "cell_type": "code",
      "metadata": {
        "id": "OlV5HIEqiZvu",
        "colab": {
          "base_uri": "https://localhost:8080/"
        },
        "outputId": "f623418c-1e22-4c1d-b10c-eed60c25af17"
      },
      "source": [
        "dataset_name = 'pokemon_500'\n",
        "datasets_source_path = project_path / 'datasets' / 'source' / (dataset_name + '.zip')\n",
        "if datasets_source_path.is_file():\n",
        "    print(\"Dataset ready for import.\")\n",
        "else:\n",
        "    print('Upload your images dataset as {}'.format(datasets_source_path))"
      ],
      "execution_count": null,
      "outputs": [
        {
          "output_type": "stream",
          "name": "stdout",
          "text": [
            "Dataset ready for import.\n"
          ]
        }
      ]
    },
    {
      "cell_type": "markdown",
      "metadata": {
        "id": "-y1-tvr5617d"
      },
      "source": [
        "Run this cell to download the zipped dataset from Drive and unzip it in the local session."
      ]
    },
    {
      "cell_type": "code",
      "metadata": {
        "id": "eQZGo4g5y7rh",
        "colab": {
          "base_uri": "https://localhost:8080/"
        },
        "outputId": "8dcfea91-e635-427e-ebfd-aef987a4000d"
      },
      "source": [
        "local_dataset_path =project_path / 'datasets' / 'source' #content_path / 'dataset' \n",
        "if not local_dataset_path.is_dir():\n",
        "    print(\"Importing dataset...\")\n",
        "    %mkdir \"{local_dataset_path}\"\n",
        "    %cp -a \"{project_path / 'datasets' / 'source' / (dataset_name + '.zip')}\" \"{local_dataset_path}\"\n",
        "    print(\"Zip file succesfuly imported\")\n",
        "else:\n",
        "    print('Zip file allready imported')\n",
        "\n",
        "import zipfile\n",
        "with zipfile.ZipFile(str(local_dataset_path / (dataset_name + '.zip')), 'r') as zip_ref:\n",
        "    zip_ref.extractall(str(local_dataset_path))\n",
        "print('Extraction completed')"
      ],
      "execution_count": null,
      "outputs": [
        {
          "output_type": "stream",
          "name": "stdout",
          "text": [
            "Zip file allready imported\n",
            "Extraction completed\n"
          ]
        }
      ]
    },
    {
      "cell_type": "markdown",
      "metadata": {
        "id": "HeS9tDvt61VG"
      },
      "source": [
        "### Convert dataset to .tfrecords"
      ]
    },
    {
      "cell_type": "markdown",
      "metadata": {
        "id": "_Q58MJbckLUc"
      },
      "source": [
        "Next, we need to convert our image dataset to a format that StyleGAN2-ADA can read:`.tfrecords`.\n",
        "\n",
        "This can take a while."
      ]
    },
    {
      "cell_type": "code",
      "metadata": {
        "id": "IjH8kBDo3kFP",
        "colab": {
          "base_uri": "https://localhost:8080/"
        },
        "outputId": "a95d0242-fb8d-4519-94c8-c9c48fc9f126"
      },
      "source": [
        "local_images_path = project_path / 'datasets' / 'source' / 'images'\n",
        "local_dataset_path /= 'tfr'\n",
        "\n",
        "if (local_dataset_path).is_dir():\n",
        "    print('\\N{Heavy Exclamation Mark Symbol} Dataset already created \\N{Heavy Exclamation Mark Symbol}')\n",
        "    print('Delete current dataset folder ({}) to regenerate tfrecords.'.format(local_dataset_path))\n",
        "else:\n",
        "    %mkdir \"{local_dataset_path}\"\n",
        "    !python \"{stylegan2_repo_path / 'dataset_tool.py'}\" create_from_images \\\n",
        "        \"{local_dataset_path}\" \"{local_images_path}\""
      ],
      "execution_count": null,
      "outputs": [
        {
          "output_type": "stream",
          "name": "stdout",
          "text": [
            "Loading images from \"/content/drive/MyDrive/StyleGAN2-ADA/datasets/source/images\"\n",
            "Creating dataset \"/content/drive/MyDrive/StyleGAN2-ADA/datasets/source/tfr\"\n",
            "Added 809 images.\n"
          ]
        }
      ]
    },
    {
      "cell_type": "markdown",
      "metadata": {
        "id": "8DvTupHzP2s_"
      },
      "source": [
        "There are numerous arguments to tune the training of the model. Here are some parameters I played with:\n",
        "\n",
        "\n",
        "*   *mirror:* Should the images be mirrored vertically?\n",
        "*   *mirrory:* Should the images be mirrored horizontally?\n",
        "*   *snap:* How often should the model generate image samples and a network pickle (.pkl file)?\n",
        "*   *resume:* Network pickle to resume training from?\n"
      ]
    },
    {
      "cell_type": "code",
      "metadata": {
        "id": "Fxu7CA0Qb1Yd"
      },
      "source": [
        "#!python \"{stylegan2_repo_path / 'train.py'}\" --help"
      ],
      "execution_count": null,
      "outputs": []
    },
    {
      "cell_type": "code",
      "source": [
        "#!pip install -U numpy==1.18.5"
      ],
      "metadata": {
        "id": "cGX1zHVwqOhm",
        "colab": {
          "base_uri": "https://localhost:8080/"
        },
        "outputId": "1241a552-8eb7-4fd7-9039-2d38108c63cd"
      },
      "execution_count": null,
      "outputs": [
        {
          "output_type": "stream",
          "name": "stdout",
          "text": [
            "Looking in indexes: https://pypi.org/simple, https://us-python.pkg.dev/colab-wheels/public/simple/\n",
            "Requirement already satisfied: numpy==1.18.5 in /usr/local/lib/python3.7/dist-packages (1.18.5)\n"
          ]
        }
      ]
    },
    {
      "cell_type": "code",
      "metadata": {
        "id": "jOftFoyiDU3s",
        "colab": {
          "base_uri": "https://localhost:8080/"
        },
        "outputId": "662a8525-c77f-4313-eb8f-484e92caabb2"
      },
      "source": [
        "training_path = project_path / 'training' / dataset_name\n",
        "if not training_path.is_dir():\n",
        "    %mkdir \"{training_path}\"\n",
        "\n",
        "#how often should the model generate samples and a .pkl file\n",
        "snapshot_count = 1000\n",
        "#should the images be mirrored left to right?\n",
        "mirrored = True\n",
        "#should the images be mirrored top to bottom?\n",
        "mirroredY = False\n",
        "#metrics? \n",
        "metric_list = None\n",
        "#augments\n",
        "augs = 'bgc'\n",
        "#train time\n",
        "total_kimgs =  10\n",
        "#train transfer \n",
        "resume_from = 'ffhq256'\n",
        "\n",
        "!python \"{stylegan2_repo_path / 'train.py'}\" --outdir=\"{training_path}\" \\\n",
        "    --data=\"{local_dataset_path}\" --resume=\"{resume_from}\" \\\n",
        "    --snap={snapshot_count} --augpipe={augs} \\\n",
        "    --mirror={mirrored} --mirrory={mirroredY} \\\n",
        "    --metrics={metric_list} #\\\n",
        "    #--total_kimg = {total_kimgs}\n",
        "    #--dry-run"
      ],
      "execution_count": null,
      "outputs": [
        {
          "output_type": "stream",
          "name": "stdout",
          "text": [
            "tcmalloc: large alloc 4294967296 bytes == 0x7e7a000 @  0x7fc9b18f6001 0x7fc9aeae07b5 0x7fc9aeb44c00 0x7fc9aeb46a9f 0x7fc9aebdd078 0x593835 0x548c51 0x5127f1 0x549e0e 0x4bca8a 0x532b86 0x594a96 0x548cc1 0x5127f1 0x549576 0x4bca8a 0x5134a6 0x549576 0x4bca8a 0x5134a6 0x549e0e 0x4bca8a 0x5134a6 0x593dd7 0x5118f8 0x549576 0x604173 0x5f5506 0x5f8c6c 0x5f9206 0x64faf2\n",
            "tcmalloc: large alloc 4294967296 bytes == 0x7fc7dedc4000 @  0x7fc9b18f41e7 0x7fc9aeae0631 0x7fc9aeb44cc8 0x7fc9aeb44f87 0x7fc9aebdcf58 0x593835 0x548c51 0x5127f1 0x549576 0x593fce 0x548ae9 0x5127f1 0x549576 0x593fce 0x548ae9 0x5127f1 0x549576 0x593fce 0x548ae9 0x5127f1 0x593dd7 0x5118f8 0x549576 0x593fce 0x548ae9 0x51566f 0x549576 0x593fce 0x548ae9 0x5127f1 0x549e0e\n",
            "tcmalloc: large alloc 4294967296 bytes == 0x7fc6dddc2000 @  0x7fc9b18f41e7 0x7fc9aeae0631 0x7fc9aeb44cc8 0x7fc9aeb44f87 0x7fc971e25235 0x7fc9717a8792 0x7fc9717a8d42 0x7fc971761aee 0x59371f 0x548c51 0x51566f 0x593dd7 0x511e2c 0x549e0e 0x4bcb19 0x5134a6 0x549576 0x593fce 0x511e2c 0x549e0e 0x593fce 0x511e2c 0x593dd7 0x511e2c 0x549576 0x4bcb19 0x59c019 0x595ef6 0x5134a6 0x549576 0x593fce\n",
            "\n",
            "Training options:\n",
            "{\n",
            "  \"G_args\": {\n",
            "    \"func_name\": \"training.networks.G_main\",\n",
            "    \"fmap_base\": 8192,\n",
            "    \"fmap_max\": 512,\n",
            "    \"mapping_layers\": 2,\n",
            "    \"num_fp16_res\": 4,\n",
            "    \"conv_clamp\": 256\n",
            "  },\n",
            "  \"D_args\": {\n",
            "    \"func_name\": \"training.networks.D_main\",\n",
            "    \"mbstd_group_size\": 4,\n",
            "    \"fmap_base\": 8192,\n",
            "    \"fmap_max\": 512,\n",
            "    \"num_fp16_res\": 4,\n",
            "    \"conv_clamp\": 256\n",
            "  },\n",
            "  \"G_opt_args\": {\n",
            "    \"beta1\": 0.0,\n",
            "    \"beta2\": 0.99,\n",
            "    \"learning_rate\": 0.0025\n",
            "  },\n",
            "  \"D_opt_args\": {\n",
            "    \"beta1\": 0.0,\n",
            "    \"beta2\": 0.99,\n",
            "    \"learning_rate\": 0.0025\n",
            "  },\n",
            "  \"loss_args\": {\n",
            "    \"func_name\": \"training.loss.stylegan2\",\n",
            "    \"r1_gamma\": 0.8192\n",
            "  },\n",
            "  \"augment_args\": {\n",
            "    \"class_name\": \"training.augment.AdaptiveAugment\",\n",
            "    \"tune_heuristic\": \"rt\",\n",
            "    \"tune_target\": 0.6,\n",
            "    \"apply_func\": \"training.augment.augment_pipeline\",\n",
            "    \"apply_args\": {\n",
            "      \"xflip\": 1,\n",
            "      \"rotate90\": 1,\n",
            "      \"xint\": 1,\n",
            "      \"scale\": 1,\n",
            "      \"rotate\": 1,\n",
            "      \"aniso\": 1,\n",
            "      \"xfrac\": 1,\n",
            "      \"brightness\": 1,\n",
            "      \"contrast\": 1,\n",
            "      \"lumaflip\": 1,\n",
            "      \"hue\": 1,\n",
            "      \"saturation\": 1\n",
            "    },\n",
            "    \"tune_kimg\": 100\n",
            "  },\n",
            "  \"num_gpus\": 1,\n",
            "  \"image_snapshot_ticks\": 2,\n",
            "  \"network_snapshot_ticks\": 2,\n",
            "  \"train_dataset_args\": {\n",
            "    \"path\": \"/content/drive/MyDrive/StyleGAN2-ADA/datasets/source/tfr\",\n",
            "    \"max_label_size\": 0,\n",
            "    \"use_raw\": false,\n",
            "    \"resolution\": 256,\n",
            "    \"mirror_augment\": true,\n",
            "    \"mirror_augment_v\": false\n",
            "  },\n",
            "  \"metric_arg_list\": [],\n",
            "  \"metric_dataset_args\": {\n",
            "    \"path\": \"/content/drive/MyDrive/StyleGAN2-ADA/datasets/source/tfr\",\n",
            "    \"max_label_size\": 0,\n",
            "    \"use_raw\": false,\n",
            "    \"resolution\": 256,\n",
            "    \"mirror_augment\": true,\n",
            "    \"mirror_augment_v\": false\n",
            "  },\n",
            "  \"total_kimg\": 25000,\n",
            "  \"minibatch_size\": 16,\n",
            "  \"minibatch_gpu\": 16,\n",
            "  \"G_smoothing_kimg\": 5.0,\n",
            "  \"G_smoothing_rampup\": null,\n",
            "  \"resume_pkl\": \"https://nvlabs-fi-cdn.nvidia.com/stylegan2-ada/pretrained/transfer-learning-source-nets/ffhq-res256-mirror-paper256-noaug.pkl\",\n",
            "  \"run_dir\": \"/content/drive/MyDrive/StyleGAN2-ADA/training/pokemon_500/00004-tfr-mirror-auto1-bgc-resumeffhq256\"\n",
            "}\n",
            "\n",
            "Output directory:  /content/drive/MyDrive/StyleGAN2-ADA/training/pokemon_500/00004-tfr-mirror-auto1-bgc-resumeffhq256\n",
            "Training data:     /content/drive/MyDrive/StyleGAN2-ADA/datasets/source/tfr\n",
            "Training length:   25000 kimg\n",
            "Resolution:        256\n",
            "Number of GPUs:    1\n",
            "\n",
            "Creating output directory...\n",
            "Loading training set...\n",
            "tcmalloc: large alloc 4294967296 bytes == 0x7e7a000 @  0x7fc9b18f6001 0x7fc9aeae07b5 0x7fc9aeb44c00 0x7fc9aeb46a9f 0x7fc9aebdd078 0x593835 0x548c51 0x5127f1 0x549e0e 0x4bca8a 0x532b86 0x594a96 0x548cc1 0x5127f1 0x549576 0x4bca8a 0x5134a6 0x549576 0x4bca8a 0x5134a6 0x549e0e 0x4bca8a 0x5134a6 0x593dd7 0x5118f8 0x549576 0x604173 0x5f5506 0x5f8c6c 0x5f9206 0x64faf2\n",
            "tcmalloc: large alloc 4294967296 bytes == 0x7fc5d291e000 @  0x7fc9b18f41e7 0x7fc9aeae0631 0x7fc9aeb44cc8 0x7fc9aeb44f87 0x7fc9aebdcf58 0x593835 0x548c51 0x5127f1 0x549576 0x593fce 0x548ae9 0x5127f1 0x549576 0x593fce 0x548ae9 0x5127f1 0x549576 0x593fce 0x548ae9 0x5127f1 0x593dd7 0x5118f8 0x549576 0x593fce 0x548ae9 0x51566f 0x549576 0x593fce 0x548ae9 0x5127f1 0x549e0e\n",
            "tcmalloc: large alloc 4294967296 bytes == 0x7fc5d291e000 @  0x7fc9b18f41e7 0x7fc9aeae0631 0x7fc9aeb44cc8 0x7fc9aeb44f87 0x7fc971e25235 0x7fc9717a8792 0x7fc9717a8d42 0x7fc971761aee 0x59371f 0x548c51 0x51566f 0x593dd7 0x511e2c 0x549e0e 0x4bcb19 0x5134a6 0x549576 0x593fce 0x511e2c 0x549e0e 0x593fce 0x511e2c 0x593dd7 0x511e2c 0x549576 0x4bcb19 0x59c019 0x595ef6 0x5134a6 0x549576 0x593fce\n",
            "Image shape: [3, 256, 256]\n",
            "Label shape: [0]\n",
            "\n",
            "Constructing networks...\n",
            "Setting up TensorFlow plugin \"fused_bias_act.cu\": Loading... Done.\n",
            "Setting up TensorFlow plugin \"upfirdn_2d.cu\": Loading... Done.\n",
            "Resuming from \"https://nvlabs-fi-cdn.nvidia.com/stylegan2-ada/pretrained/transfer-learning-source-nets/ffhq-res256-mirror-paper256-noaug.pkl\"\n",
            "\n",
            "G                             Params    OutputShape         WeightShape     \n",
            "---                           ---       ---                 ---             \n",
            "latents_in                    -         (?, 512)            -               \n",
            "labels_in                     -         (?, 0)              -               \n",
            "epochs                        1         ()                  ()              \n",
            "epochs_1                      1         ()                  ()              \n",
            "G_mapping/Normalize           -         (?, 512)            -               \n",
            "G_mapping/Dense0              262656    (?, 512)            (512, 512)      \n",
            "G_mapping/Dense1              262656    (?, 512)            (512, 512)      \n",
            "G_mapping/Broadcast           -         (?, 14, 512)        -               \n",
            "dlatent_avg                   -         (512,)              -               \n",
            "Truncation/Lerp               -         (?, 14, 512)        -               \n",
            "G_synthesis/4x4/Const         8192      (?, 512, 4, 4)      (1, 512, 4, 4)  \n",
            "G_synthesis/4x4/Conv          2622465   (?, 512, 4, 4)      (3, 3, 512, 512)\n",
            "G_synthesis/4x4/ToRGB         264195    (?, 3, 4, 4)        (1, 1, 512, 3)  \n",
            "G_synthesis/8x8/Conv0_up      2622465   (?, 512, 8, 8)      (3, 3, 512, 512)\n",
            "G_synthesis/8x8/Conv1         2622465   (?, 512, 8, 8)      (3, 3, 512, 512)\n",
            "G_synthesis/8x8/Upsample      -         (?, 3, 8, 8)        -               \n",
            "G_synthesis/8x8/ToRGB         264195    (?, 3, 8, 8)        (1, 1, 512, 3)  \n",
            "G_synthesis/16x16/Conv0_up    2622465   (?, 512, 16, 16)    (3, 3, 512, 512)\n",
            "G_synthesis/16x16/Conv1       2622465   (?, 512, 16, 16)    (3, 3, 512, 512)\n",
            "G_synthesis/16x16/Upsample    -         (?, 3, 16, 16)      -               \n",
            "G_synthesis/16x16/ToRGB       264195    (?, 3, 16, 16)      (1, 1, 512, 3)  \n",
            "G_synthesis/32x32/Conv0_up    2622465   (?, 512, 32, 32)    (3, 3, 512, 512)\n",
            "G_synthesis/32x32/Conv1       2622465   (?, 512, 32, 32)    (3, 3, 512, 512)\n",
            "G_synthesis/32x32/Upsample    -         (?, 3, 32, 32)      -               \n",
            "G_synthesis/32x32/ToRGB       264195    (?, 3, 32, 32)      (1, 1, 512, 3)  \n",
            "G_synthesis/64x64/Conv0_up    1442561   (?, 256, 64, 64)    (3, 3, 512, 256)\n",
            "G_synthesis/64x64/Conv1       721409    (?, 256, 64, 64)    (3, 3, 256, 256)\n",
            "G_synthesis/64x64/Upsample    -         (?, 3, 64, 64)      -               \n",
            "G_synthesis/64x64/ToRGB       132099    (?, 3, 64, 64)      (1, 1, 256, 3)  \n",
            "G_synthesis/128x128/Conv0_up  426369    (?, 128, 128, 128)  (3, 3, 256, 128)\n",
            "G_synthesis/128x128/Conv1     213249    (?, 128, 128, 128)  (3, 3, 128, 128)\n",
            "G_synthesis/128x128/Upsample  -         (?, 3, 128, 128)    -               \n",
            "G_synthesis/128x128/ToRGB     66051     (?, 3, 128, 128)    (1, 1, 128, 3)  \n",
            "G_synthesis/256x256/Conv0_up  139457    (?, 64, 256, 256)   (3, 3, 128, 64) \n",
            "G_synthesis/256x256/Conv1     69761     (?, 64, 256, 256)   (3, 3, 64, 64)  \n",
            "G_synthesis/256x256/Upsample  -         (?, 3, 256, 256)    -               \n",
            "G_synthesis/256x256/ToRGB     33027     (?, 3, 256, 256)    (1, 1, 64, 3)   \n",
            "---                           ---       ---                 ---             \n",
            "Total                         23191524                                      \n",
            "\n",
            "\n",
            "D                    Params    OutputShape         WeightShape     \n",
            "---                  ---       ---                 ---             \n",
            "images_in            -         (?, 3, 256, 256)    -               \n",
            "labels_in            -         (?, 0)              -               \n",
            "256x256/FromRGB      256       (?, 64, 256, 256)   (1, 1, 3, 64)   \n",
            "256x256/Conv0        36928     (?, 64, 256, 256)   (3, 3, 64, 64)  \n",
            "256x256/Conv1_down   73856     (?, 128, 128, 128)  (3, 3, 64, 128) \n",
            "256x256/Skip         8192      (?, 128, 128, 128)  (1, 1, 64, 128) \n",
            "128x128/Conv0        147584    (?, 128, 128, 128)  (3, 3, 128, 128)\n",
            "128x128/Conv1_down   295168    (?, 256, 64, 64)    (3, 3, 128, 256)\n",
            "128x128/Skip         32768     (?, 256, 64, 64)    (1, 1, 128, 256)\n",
            "64x64/Conv0          590080    (?, 256, 64, 64)    (3, 3, 256, 256)\n",
            "64x64/Conv1_down     1180160   (?, 512, 32, 32)    (3, 3, 256, 512)\n",
            "64x64/Skip           131072    (?, 512, 32, 32)    (1, 1, 256, 512)\n",
            "32x32/Conv0          2359808   (?, 512, 32, 32)    (3, 3, 512, 512)\n",
            "32x32/Conv1_down     2359808   (?, 512, 16, 16)    (3, 3, 512, 512)\n",
            "32x32/Skip           262144    (?, 512, 16, 16)    (1, 1, 512, 512)\n",
            "16x16/Conv0          2359808   (?, 512, 16, 16)    (3, 3, 512, 512)\n",
            "16x16/Conv1_down     2359808   (?, 512, 8, 8)      (3, 3, 512, 512)\n",
            "16x16/Skip           262144    (?, 512, 8, 8)      (1, 1, 512, 512)\n",
            "8x8/Conv0            2359808   (?, 512, 8, 8)      (3, 3, 512, 512)\n",
            "8x8/Conv1_down       2359808   (?, 512, 4, 4)      (3, 3, 512, 512)\n",
            "8x8/Skip             262144    (?, 512, 4, 4)      (1, 1, 512, 512)\n",
            "4x4/MinibatchStddev  -         (?, 513, 4, 4)      -               \n",
            "4x4/Conv             2364416   (?, 512, 4, 4)      (3, 3, 513, 512)\n",
            "4x4/Dense0           4194816   (?, 512)            (8192, 512)     \n",
            "Output               513       (?, 1)              (512, 1)        \n",
            "---                  ---       ---                 ---             \n",
            "Total                24001089                                      \n",
            "\n",
            "Exporting sample images...\n",
            "Replicating networks across 1 GPUs...\n",
            "Initializing augmentations...\n",
            "Setting up optimizers...\n",
            "Constructing training graph...\n",
            "Finalizing training ops...\n",
            "Initializing metrics...\n",
            "Training for 25000 kimg...\n",
            "\n",
            "tick 0     kimg 0.1      time 1m 18s       sec/tick 19.1    sec/kimg 298.58  maintenance 59.1   gpumem 7.2   augment 0.000\n",
            "tick 1     kimg 4.1      time 6m 20s       sec/tick 283.2   sec/kimg 70.25   maintenance 18.7   gpumem 7.2   augment 0.028\n",
            "tick 2     kimg 8.1      time 11m 04s      sec/tick 284.0   sec/kimg 70.43   maintenance 0.0    gpumem 7.2   augment 0.056\n",
            "tick 3     kimg 12.2     time 15m 57s      sec/tick 285.1   sec/kimg 70.72   maintenance 7.7    gpumem 7.2   augment 0.079\n",
            "tick 4     kimg 16.2     time 20m 42s      sec/tick 285.3   sec/kimg 70.76   maintenance 0.0    gpumem 7.2   augment 0.108\n",
            "tick 5     kimg 20.2     time 25m 35s      sec/tick 285.5   sec/kimg 70.81   maintenance 7.2    gpumem 7.2   augment 0.132\n",
            "tick 6     kimg 24.3     time 30m 21s      sec/tick 286.1   sec/kimg 70.96   maintenance 0.0    gpumem 7.2   augment 0.164\n",
            "tick 7     kimg 28.3     time 35m 15s      sec/tick 286.6   sec/kimg 71.08   maintenance 7.2    gpumem 7.2   augment 0.190\n",
            "tick 8     kimg 32.3     time 40m 02s      sec/tick 286.8   sec/kimg 71.12   maintenance 0.0    gpumem 7.2   augment 0.186\n",
            "tick 9     kimg 36.4     time 44m 56s      sec/tick 286.5   sec/kimg 71.06   maintenance 7.2    gpumem 7.2   augment 0.205\n",
            "tick 10    kimg 40.4     time 49m 43s      sec/tick 287.3   sec/kimg 71.25   maintenance 0.0    gpumem 7.2   augment 0.232\n",
            "tick 11    kimg 44.4     time 54m 38s      sec/tick 287.8   sec/kimg 71.37   maintenance 7.1    gpumem 7.2   augment 0.255\n",
            "tick 12    kimg 48.4     time 59m 26s      sec/tick 287.9   sec/kimg 71.41   maintenance 0.0    gpumem 7.2   augment 0.279\n",
            "tick 13    kimg 52.5     time 1h 04m 21s   sec/tick 288.0   sec/kimg 71.43   maintenance 7.3    gpumem 7.2   augment 0.300\n",
            "tick 14    kimg 56.5     time 1h 09m 09s   sec/tick 288.3   sec/kimg 71.51   maintenance 0.0    gpumem 7.2   augment 0.305\n",
            "tick 15    kimg 60.5     time 1h 14m 05s   sec/tick 288.6   sec/kimg 71.57   maintenance 7.2    gpumem 7.2   augment 0.319\n",
            "tick 16    kimg 64.6     time 1h 18m 54s   sec/tick 288.9   sec/kimg 71.64   maintenance 0.0    gpumem 7.2   augment 0.334\n",
            "tick 17    kimg 68.6     time 1h 23m 50s   sec/tick 288.6   sec/kimg 71.57   maintenance 7.2    gpumem 7.2   augment 0.353\n",
            "tick 18    kimg 72.6     time 1h 28m 39s   sec/tick 289.0   sec/kimg 71.68   maintenance 0.0    gpumem 7.2   augment 0.371\n",
            "tick 19    kimg 76.7     time 1h 33m 35s   sec/tick 289.5   sec/kimg 71.80   maintenance 7.3    gpumem 7.2   augment 0.385\n",
            "tick 20    kimg 80.7     time 1h 38m 25s   sec/tick 289.4   sec/kimg 71.77   maintenance 0.0    gpumem 7.2   augment 0.401\n",
            "tick 21    kimg 84.7     time 1h 43m 21s   sec/tick 289.2   sec/kimg 71.73   maintenance 7.3    gpumem 7.2   augment 0.413\n",
            "tick 22    kimg 88.8     time 1h 48m 11s   sec/tick 289.9   sec/kimg 71.89   maintenance 0.0    gpumem 7.2   augment 0.424\n",
            "tick 23    kimg 92.8     time 1h 53m 09s   sec/tick 290.1   sec/kimg 71.95   maintenance 7.3    gpumem 7.2   augment 0.441\n",
            "tick 24    kimg 96.8     time 1h 57m 59s   sec/tick 290.0   sec/kimg 71.92   maintenance 0.0    gpumem 7.2   augment 0.447\n",
            "tick 25    kimg 100.9    time 2h 02m 55s   sec/tick 289.6   sec/kimg 71.82   maintenance 7.3    gpumem 7.2   augment 0.455\n",
            "tick 26    kimg 104.9    time 2h 07m 46s   sec/tick 290.2   sec/kimg 71.97   maintenance 0.0    gpumem 7.2   augment 0.470\n",
            "tick 27    kimg 108.9    time 2h 12m 43s   sec/tick 290.6   sec/kimg 72.08   maintenance 7.2    gpumem 7.2   augment 0.477\n",
            "tick 28    kimg 113.0    time 2h 17m 34s   sec/tick 290.5   sec/kimg 72.05   maintenance 0.0    gpumem 7.2   augment 0.485\n",
            "tick 29    kimg 117.0    time 2h 22m 32s   sec/tick 290.4   sec/kimg 72.02   maintenance 7.4    gpumem 7.2   augment 0.495\n",
            "tick 30    kimg 121.0    time 2h 27m 22s   sec/tick 290.7   sec/kimg 72.10   maintenance 0.0    gpumem 7.2   augment 0.503\n",
            "tick 31    kimg 125.1    time 2h 32m 21s   sec/tick 290.9   sec/kimg 72.15   maintenance 7.4    gpumem 7.2   augment 0.518\n",
            "tick 32    kimg 129.1    time 2h 37m 12s   sec/tick 290.9   sec/kimg 72.15   maintenance 0.0    gpumem 7.2   augment 0.529\n",
            "tick 33    kimg 133.1    time 2h 42m 10s   sec/tick 290.7   sec/kimg 72.09   maintenance 7.4    gpumem 7.2   augment 0.532\n",
            "tick 34    kimg 137.2    time 2h 47m 01s   sec/tick 291.3   sec/kimg 72.23   maintenance 0.0    gpumem 7.2   augment 0.543\n",
            "tick 35    kimg 141.2    time 2h 52m 00s   sec/tick 291.5   sec/kimg 72.30   maintenance 7.4    gpumem 7.2   augment 0.545\n",
            "tick 36    kimg 145.2    time 2h 56m 51s   sec/tick 291.0   sec/kimg 72.18   maintenance 0.0    gpumem 7.2   augment 0.541\n",
            "tick 37    kimg 149.2    time 3h 01m 49s   sec/tick 291.0   sec/kimg 72.18   maintenance 7.4    gpumem 7.2   augment 0.556\n",
            "tick 38    kimg 153.3    time 3h 06m 41s   sec/tick 291.6   sec/kimg 72.32   maintenance 0.0    gpumem 7.2   augment 0.564\n",
            "tick 39    kimg 157.3    time 3h 11m 39s   sec/tick 291.4   sec/kimg 72.27   maintenance 7.2    gpumem 7.2   augment 0.552\n",
            "tick 40    kimg 161.3    time 3h 16m 31s   sec/tick 291.3   sec/kimg 72.26   maintenance 0.0    gpumem 7.2   augment 0.562\n",
            "tick 41    kimg 165.4    time 3h 21m 29s   sec/tick 291.0   sec/kimg 72.17   maintenance 7.2    gpumem 7.2   augment 0.552\n",
            "tick 42    kimg 169.4    time 3h 26m 20s   sec/tick 291.2   sec/kimg 72.23   maintenance 0.0    gpumem 7.2   augment 0.558\n",
            "tick 43    kimg 173.4    time 3h 31m 19s   sec/tick 291.4   sec/kimg 72.26   maintenance 7.3    gpumem 7.2   augment 0.556\n",
            "tick 44    kimg 177.5    time 3h 36m 10s   sec/tick 291.6   sec/kimg 72.31   maintenance 0.0    gpumem 7.2   augment 0.564\n",
            "tick 45    kimg 181.5    time 3h 41m 08s   sec/tick 290.9   sec/kimg 72.16   maintenance 7.1    gpumem 7.2   augment 0.579\n",
            "tick 46    kimg 185.5    time 3h 46m 00s   sec/tick 291.4   sec/kimg 72.28   maintenance 0.0    gpumem 7.2   augment 0.573\n",
            "tick 47    kimg 189.6    time 3h 50m 59s   sec/tick 291.6   sec/kimg 72.32   maintenance 7.2    gpumem 7.2   augment 0.575\n",
            "tick 48    kimg 193.6    time 3h 55m 50s   sec/tick 291.4   sec/kimg 72.26   maintenance 0.0    gpumem 7.2   augment 0.581\n",
            "tick 49    kimg 197.6    time 4h 00m 49s   sec/tick 291.3   sec/kimg 72.26   maintenance 7.1    gpumem 7.2   augment 0.582\n",
            "tick 50    kimg 201.7    time 4h 05m 40s   sec/tick 291.4   sec/kimg 72.28   maintenance 0.0    gpumem 7.2   augment 0.581\n",
            "tick 51    kimg 205.7    time 4h 10m 39s   sec/tick 291.7   sec/kimg 72.34   maintenance 7.0    gpumem 7.2   augment 0.575\n",
            "tick 52    kimg 209.7    time 4h 15m 30s   sec/tick 291.6   sec/kimg 72.31   maintenance 0.0    gpumem 7.2   augment 0.584\n",
            "tick 53    kimg 213.8    time 4h 20m 29s   sec/tick 291.2   sec/kimg 72.21   maintenance 7.4    gpumem 7.2   augment 0.588\n",
            "tick 54    kimg 217.8    time 4h 25m 20s   sec/tick 291.5   sec/kimg 72.30   maintenance 0.0    gpumem 7.2   augment 0.596\n",
            "tick 55    kimg 221.8    time 4h 30m 19s   sec/tick 291.6   sec/kimg 72.32   maintenance 7.1    gpumem 7.2   augment 0.596\n",
            "tick 56    kimg 225.9    time 4h 35m 10s   sec/tick 291.2   sec/kimg 72.23   maintenance 0.0    gpumem 7.2   augment 0.605\n",
            "tick 57    kimg 229.9    time 4h 40m 08s   sec/tick 290.8   sec/kimg 72.11   maintenance 7.2    gpumem 7.2   augment 0.614\n",
            "tick 58    kimg 233.9    time 4h 44m 59s   sec/tick 291.1   sec/kimg 72.21   maintenance 0.0    gpumem 7.2   augment 0.607\n",
            "tick 59    kimg 238.0    time 4h 49m 57s   sec/tick 291.2   sec/kimg 72.22   maintenance 6.9    gpumem 7.2   augment 0.606\n",
            "tick 60    kimg 242.0    time 4h 54m 49s   sec/tick 291.2   sec/kimg 72.22   maintenance 0.0    gpumem 7.2   augment 0.593\n",
            "tick 61    kimg 246.0    time 4h 59m 46s   sec/tick 290.5   sec/kimg 72.05   maintenance 7.1    gpumem 7.2   augment 0.592\n",
            "tick 62    kimg 250.0    time 5h 04m 38s   sec/tick 291.3   sec/kimg 72.26   maintenance 0.0    gpumem 7.2   augment 0.595\n",
            "tick 63    kimg 254.1    time 5h 09m 36s   sec/tick 291.4   sec/kimg 72.28   maintenance 7.3    gpumem 7.2   augment 0.609\n",
            "tick 64    kimg 258.1    time 5h 14m 28s   sec/tick 291.7   sec/kimg 72.36   maintenance 0.0    gpumem 7.2   augment 0.607\n",
            "tick 65    kimg 262.1    time 5h 19m 26s   sec/tick 291.1   sec/kimg 72.20   maintenance 7.3    gpumem 7.2   augment 0.607\n",
            "tick 66    kimg 266.2    time 5h 24m 18s   sec/tick 291.8   sec/kimg 72.38   maintenance 0.0    gpumem 7.2   augment 0.620\n",
            "tick 67    kimg 270.2    time 5h 29m 18s   sec/tick 292.2   sec/kimg 72.46   maintenance 7.3    gpumem 7.2   augment 0.632\n",
            "tick 68    kimg 274.2    time 5h 34m 10s   sec/tick 292.3   sec/kimg 72.49   maintenance 0.0    gpumem 7.2   augment 0.631\n",
            "tick 69    kimg 278.3    time 5h 39m 09s   sec/tick 291.8   sec/kimg 72.38   maintenance 7.2    gpumem 7.2   augment 0.633\n",
            "tick 70    kimg 282.3    time 5h 44m 01s   sec/tick 292.4   sec/kimg 72.53   maintenance 0.0    gpumem 7.2   augment 0.628\n",
            "tick 71    kimg 286.3    time 5h 49m 01s   sec/tick 292.4   sec/kimg 72.52   maintenance 7.4    gpumem 7.2   augment 0.621\n",
            "tick 72    kimg 290.4    time 5h 53m 54s   sec/tick 292.3   sec/kimg 72.49   maintenance 0.0    gpumem 7.2   augment 0.626\n",
            "tick 73    kimg 294.4    time 5h 58m 53s   sec/tick 292.0   sec/kimg 72.43   maintenance 7.3    gpumem 7.2   augment 0.628\n",
            "tick 74    kimg 298.4    time 6h 03m 45s   sec/tick 292.4   sec/kimg 72.52   maintenance 0.0    gpumem 7.2   augment 0.627\n",
            "tick 75    kimg 302.5    time 6h 08m 45s   sec/tick 292.2   sec/kimg 72.47   maintenance 7.2    gpumem 7.2   augment 0.618\n",
            "tick 76    kimg 306.5    time 6h 13m 37s   sec/tick 292.3   sec/kimg 72.49   maintenance 0.0    gpumem 7.2   augment 0.623\n",
            "tick 77    kimg 310.5    time 6h 18m 36s   sec/tick 292.0   sec/kimg 72.42   maintenance 7.2    gpumem 7.2   augment 0.624\n",
            "tick 78    kimg 314.6    time 6h 23m 28s   sec/tick 292.1   sec/kimg 72.46   maintenance 0.0    gpumem 7.2   augment 0.620\n",
            "tick 79    kimg 318.6    time 6h 28m 28s   sec/tick 292.3   sec/kimg 72.49   maintenance 7.3    gpumem 7.2   augment 0.620\n",
            "tick 80    kimg 322.6    time 6h 33m 20s   sec/tick 292.1   sec/kimg 72.44   maintenance 0.0    gpumem 7.2   augment 0.631\n",
            "tick 81    kimg 326.7    time 6h 38m 19s   sec/tick 292.0   sec/kimg 72.41   maintenance 7.3    gpumem 7.2   augment 0.639\n",
            "tick 82    kimg 330.7    time 6h 43m 12s   sec/tick 292.5   sec/kimg 72.55   maintenance 0.0    gpumem 7.2   augment 0.639\n",
            "tick 83    kimg 334.7    time 6h 48m 12s   sec/tick 292.5   sec/kimg 72.55   maintenance 7.3    gpumem 7.2   augment 0.643\n",
            "tick 84    kimg 338.8    time 6h 53m 04s   sec/tick 292.5   sec/kimg 72.55   maintenance 0.0    gpumem 7.2   augment 0.643\n",
            "tick 85    kimg 342.8    time 6h 58m 03s   sec/tick 292.0   sec/kimg 72.41   maintenance 7.4    gpumem 7.2   augment 0.633\n",
            "tick 86    kimg 346.8    time 7h 02m 56s   sec/tick 292.4   sec/kimg 72.53   maintenance 0.0    gpumem 7.2   augment 0.626\n",
            "tick 87    kimg 350.8    time 7h 07m 56s   sec/tick 292.5   sec/kimg 72.55   maintenance 7.3    gpumem 7.2   augment 0.629\n",
            "tick 88    kimg 354.9    time 7h 12m 48s   sec/tick 292.5   sec/kimg 72.53   maintenance 0.0    gpumem 7.2   augment 0.622\n",
            "tick 89    kimg 358.9    time 7h 17m 47s   sec/tick 292.0   sec/kimg 72.43   maintenance 7.3    gpumem 7.2   augment 0.632\n",
            "tick 90    kimg 362.9    time 7h 22m 40s   sec/tick 292.5   sec/kimg 72.56   maintenance 0.0    gpumem 7.2   augment 0.635\n",
            "tick 91    kimg 367.0    time 7h 27m 41s   sec/tick 293.4   sec/kimg 72.76   maintenance 7.9    gpumem 7.2   augment 0.634\n",
            "tick 92    kimg 371.0    time 7h 32m 34s   sec/tick 292.6   sec/kimg 72.58   maintenance 0.0    gpumem 7.2   augment 0.644\n",
            "tick 93    kimg 375.0    time 7h 37m 34s   sec/tick 292.6   sec/kimg 72.56   maintenance 7.2    gpumem 7.2   augment 0.642\n",
            "tick 94    kimg 379.1    time 7h 42m 26s   sec/tick 292.3   sec/kimg 72.49   maintenance 0.1    gpumem 7.2   augment 0.652\n",
            "tick 95    kimg 383.1    time 7h 47m 26s   sec/tick 292.7   sec/kimg 72.59   maintenance 7.2    gpumem 7.2   augment 0.656\n",
            "tick 96    kimg 387.1    time 7h 52m 19s   sec/tick 292.6   sec/kimg 72.58   maintenance 0.0    gpumem 7.2   augment 0.658\n",
            "tick 97    kimg 391.2    time 7h 57m 18s   sec/tick 292.2   sec/kimg 72.47   maintenance 7.4    gpumem 7.2   augment 0.656\n",
            "tick 98    kimg 395.2    time 8h 02m 11s   sec/tick 292.3   sec/kimg 72.50   maintenance 0.1    gpumem 7.2   augment 0.654\n",
            "tick 99    kimg 399.2    time 8h 07m 10s   sec/tick 292.5   sec/kimg 72.54   maintenance 7.1    gpumem 7.2   augment 0.655\n",
            "tick 100   kimg 403.3    time 8h 12m 03s   sec/tick 292.3   sec/kimg 72.51   maintenance 0.0    gpumem 7.2   augment 0.664\n",
            "tick 101   kimg 407.3    time 8h 17m 02s   sec/tick 292.3   sec/kimg 72.48   maintenance 7.2    gpumem 7.2   augment 0.660\n",
            "tick 102   kimg 411.3    time 8h 21m 55s   sec/tick 292.4   sec/kimg 72.53   maintenance 0.0    gpumem 7.2   augment 0.667\n",
            "tick 103   kimg 415.4    time 8h 26m 54s   sec/tick 292.7   sec/kimg 72.60   maintenance 7.1    gpumem 7.2   augment 0.673\n",
            "Traceback (most recent call last):\n",
            "  File \"/content/drive/MyDrive/StyleGAN2-ADA/stylegan2-ada/train.py\", line 645, in <module>\n",
            "    main()\n",
            "  File \"/content/drive/MyDrive/StyleGAN2-ADA/stylegan2-ada/train.py\", line 637, in main\n",
            "    run_training(**vars(args))\n",
            "  File \"/content/drive/MyDrive/StyleGAN2-ADA/stylegan2-ada/train.py\", line 522, in run_training\n",
            "    training_loop.training_loop(**training_options)\n",
            "  File \"/content/drive/MyDrive/StyleGAN2-ADA/stylegan2-ada/training/training_loop.py\", line 252, in training_loop\n",
            "    tflib.run([G_train_op, data_fetch_op])\n",
            "  File \"/content/drive/MyDrive/StyleGAN2-ADA/stylegan2-ada/dnnlib/tflib/tfutil.py\", line 33, in run\n",
            "    return tf.get_default_session().run(*args, **kwargs)\n",
            "  File \"/tensorflow-1.15.2/python3.7/tensorflow_core/python/client/session.py\", line 956, in run\n",
            "    run_metadata_ptr)\n",
            "  File \"/tensorflow-1.15.2/python3.7/tensorflow_core/python/client/session.py\", line 1180, in _run\n",
            "    feed_dict_tensor, options, run_metadata)\n",
            "  File \"/tensorflow-1.15.2/python3.7/tensorflow_core/python/client/session.py\", line 1359, in _do_run\n",
            "    run_metadata)\n",
            "  File \"/tensorflow-1.15.2/python3.7/tensorflow_core/python/client/session.py\", line 1365, in _do_call\n",
            "    return fn(*args)\n",
            "  File \"/tensorflow-1.15.2/python3.7/tensorflow_core/python/client/session.py\", line 1350, in _run_fn\n",
            "    target_list, run_metadata)\n",
            "  File \"/tensorflow-1.15.2/python3.7/tensorflow_core/python/client/session.py\", line 1443, in _call_tf_sessionrun\n",
            "    run_metadata)\n",
            "KeyboardInterrupt\n",
            "^C\n"
          ]
        }
      ]
    },
    {
      "cell_type": "markdown",
      "metadata": {
        "id": "f0A9ZNtferpk"
      },
      "source": [
        "## Generate images from pre-trained model\n"
      ]
    },
    {
      "cell_type": "code",
      "metadata": {
        "id": "xnlrb9QzgaGp",
        "colab": {
          "base_uri": "https://localhost:8080/"
        },
        "outputId": "1f747b55-02cc-4fbf-a04b-b4dde15814e7"
      },
      "source": [
        "%pip install opensimplex\n",
        "!python \"{stylegan2_repo_path / 'generate.py'}\" generate-images --help "
      ],
      "execution_count": null,
      "outputs": [
        {
          "output_type": "stream",
          "name": "stdout",
          "text": [
            "Looking in indexes: https://pypi.org/simple, https://us-python.pkg.dev/colab-wheels/public/simple/\n",
            "Collecting opensimplex\n",
            "  Downloading opensimplex-0.4.2-py3-none-any.whl (17 kB)\n",
            "Requirement already satisfied: numpy>=1.20 in /usr/local/lib/python3.7/dist-packages (from opensimplex) (1.21.6)\n",
            "Installing collected packages: opensimplex\n",
            "Successfully installed opensimplex-0.4.2\n",
            "Imageio: 'ffmpeg-linux64-v3.3.1' was not found on your computer; downloading it now.\n",
            "Try 1. Download from https://github.com/imageio/imageio-binaries/raw/master/ffmpeg/ffmpeg-linux64-v3.3.1 (43.8 MB)\n",
            "Downloading: 8192/45929032 bytes (0.0%)\b\b\b\b\b\b\b\b\b\b\b\b\b\b\b\b\b\b\b\b\b\b\b\b\b\b3694592/45929032 bytes (8.0%)\b\b\b\b\b\b\b\b\b\b\b\b\b\b\b\b\b\b\b\b\b\b\b\b\b\b\b\b\b7667712/45929032 bytes (16.7%)\b\b\b\b\b\b\b\b\b\b\b\b\b\b\b\b\b\b\b\b\b\b\b\b\b\b\b\b\b\b12009472/45929032 bytes (26.1%)\b\b\b\b\b\b\b\b\b\b\b\b\b\b\b\b\b\b\b\b\b\b\b\b\b\b\b\b\b\b\b16187392/45929032 bytes (35.2%)\b\b\b\b\b\b\b\b\b\b\b\b\b\b\b\b\b\b\b\b\b\b\b\b\b\b\b\b\b\b\b20365312/45929032 bytes (44.3%)\b\b\b\b\b\b\b\b\b\b\b\b\b\b\b\b\b\b\b\b\b\b\b\b\b\b\b\b\b\b\b24576000/45929032 bytes (53.5%)\b\b\b\b\b\b\b\b\b\b\b\b\b\b\b\b\b\b\b\b\b\b\b\b\b\b\b\b\b\b\b28868608/45929032 bytes (62.9%)\b\b\b\b\b\b\b\b\b\b\b\b\b\b\b\b\b\b\b\b\b\b\b\b\b\b\b\b\b\b\b33062912/45929032 bytes (72.0%)\b\b\b\b\b\b\b\b\b\b\b\b\b\b\b\b\b\b\b\b\b\b\b\b\b\b\b\b\b\b\b37158912/45929032 bytes (80.9%)\b\b\b\b\b\b\b\b\b\b\b\b\b\b\b\b\b\b\b\b\b\b\b\b\b\b\b\b\b\b\b41508864/45929032 bytes (90.4%)\b\b\b\b\b\b\b\b\b\b\b\b\b\b\b\b\b\b\b\b\b\b\b\b\b\b\b\b\b\b\b45703168/45929032 bytes (99.5%)\b\b\b\b\b\b\b\b\b\b\b\b\b\b\b\b\b\b\b\b\b\b\b\b\b\b\b\b\b\b\b45929032/45929032 bytes (100.0%)\n",
            "  Done\n",
            "File saved as /root/.imageio/ffmpeg/ffmpeg-linux64-v3.3.1.\n",
            "usage: generate.py generate-images [-h] --network NETWORK_PKL --seeds SEEDS\n",
            "                                   [--trunc TRUNCATION_PSI]\n",
            "                                   [--class CLASS_IDX] [--create-grid]\n",
            "                                   [--outdir DIR] [--save_vector] [--fixnoise]\n",
            "                                   [--jpg_quality JPG_QUALITY]\n",
            "\n",
            "optional arguments:\n",
            "  -h, --help            show this help message and exit\n",
            "  --network NETWORK_PKL\n",
            "                        Network pickle filename\n",
            "  --seeds SEEDS         List of random seeds\n",
            "  --trunc TRUNCATION_PSI\n",
            "                        Truncation psi (default: 0.5)\n",
            "  --class CLASS_IDX     Class label (default: unconditional)\n",
            "  --create-grid         Add flag to save the generated images in a grid\n",
            "  --outdir DIR          Root directory for run results (default: out)\n",
            "  --save_vector         also save vector in .npy format\n",
            "  --fixnoise            generate images using fixed noise (more accurate for\n",
            "                        interpolations)\n",
            "  --jpg_quality JPG_QUALITY\n",
            "                        Quality compression for JPG exports (1 to 95), keep\n",
            "                        default value to export as PNG\n"
          ]
        }
      ]
    },
    {
      "cell_type": "code",
      "metadata": {
        "id": "qQqYjeRsfYD2",
        "colab": {
          "base_uri": "https://localhost:8080/"
        },
        "outputId": "e4005012-4277-40c3-d1fa-645d47e9f63e"
      },
      "source": [
        "from numpy import random\n",
        "seed_init = random.randint(10000)\n",
        "nbr_images = 6\n",
        "\n",
        "generation_from = '/content/drive/MyDrive/StyleGAN2-ADA/training/pokemon_500/network-snapshot-000330.pkl'\n",
        "\n",
        "!python \"{stylegan2_repo_path / 'generate.py'}\" generate-images \\\n",
        "    --outdir=\"{project_path / 'out'}\" --trunc=0.7 \\\n",
        "    --seeds={seed_init}-{seed_init+nbr_images-1} --create-grid \\\n",
        "    --network={generation_from}"
      ],
      "execution_count": null,
      "outputs": [
        {
          "output_type": "stream",
          "name": "stdout",
          "text": [
            "Loading networks from \"/content/drive/MyDrive/StyleGAN2-ADA/training/pokemon_500/network-snapshot-000330.pkl\"...\n",
            "Setting up TensorFlow plugin \"fused_bias_act.cu\": Compiling... Loading... Done.\n",
            "Setting up TensorFlow plugin \"upfirdn_2d.cu\": Compiling... Loading... Done.\n",
            "Generating image for seed 5790 (0/6) ...\n",
            "Generating image for seed 5791 (1/6) ...\n",
            "Generating image for seed 5792 (2/6) ...\n",
            "Generating image for seed 5793 (3/6) ...\n",
            "Generating image for seed 5794 (4/6) ...\n",
            "Generating image for seed 5795 (5/6) ...\n",
            "Generating image grid...\n"
          ]
        }
      ]
    },
    {
      "cell_type": "markdown",
      "metadata": {
        "id": "5yG1UyHXXqsO"
      },
      "source": [
        "## Latent space exploration"
      ]
    },
    {
      "cell_type": "code",
      "metadata": {
        "id": "veceGR6QYA93",
        "colab": {
          "base_uri": "https://localhost:8080/"
        },
        "outputId": "08569cbc-ade8-47c4-9cde-0c1d104e235c"
      },
      "source": [
        "%pip install opensimplex\n",
        "!python \"{stylegan2_repo_path / 'generate.py'}\" generate-latent-walk --help "
      ],
      "execution_count": null,
      "outputs": [
        {
          "output_type": "stream",
          "name": "stdout",
          "text": [
            "Looking in indexes: https://pypi.org/simple, https://us-python.pkg.dev/colab-wheels/public/simple/\n",
            "Requirement already satisfied: opensimplex in /usr/local/lib/python3.7/dist-packages (0.4.2)\n",
            "Requirement already satisfied: numpy>=1.20 in /usr/local/lib/python3.7/dist-packages (from opensimplex) (1.21.6)\n",
            "usage: generate.py generate-latent-walk [-h] --network NETWORK_PKL\n",
            "                                        [--trunc TRUNCATION_PSI]\n",
            "                                        [--walk-type WALK_TYPE]\n",
            "                                        [--frames FRAMES] [--fps FRAMERATE]\n",
            "                                        [--seeds SEEDS] [--npys NPYS]\n",
            "                                        [--save_vector] [--diameter DIAMETER]\n",
            "                                        [--start_seed START_SEED]\n",
            "                                        [--outdir DIR]\n",
            "\n",
            "optional arguments:\n",
            "  -h, --help            show this help message and exit\n",
            "  --network NETWORK_PKL\n",
            "                        Network pickle filename\n",
            "  --trunc TRUNCATION_PSI\n",
            "                        Truncation psi (default: 0.5)\n",
            "  --walk-type WALK_TYPE\n",
            "                        Type of walk (default: line)\n",
            "  --frames FRAMES       Frame count (default: 240\n",
            "  --fps FRAMERATE       Starting value\n",
            "  --seeds SEEDS         List of random seeds\n",
            "  --npys NPYS           List of .npy files\n",
            "  --save_vector         also save vector in .npy format\n",
            "  --diameter DIAMETER   diameter of noise loop\n",
            "  --start_seed START_SEED\n",
            "                        random seed to start noise loop from\n",
            "  --outdir DIR          Root directory for run results (default: out)\n"
          ]
        }
      ]
    },
    {
      "cell_type": "markdown",
      "source": [
        "### Explore through multiple seeds"
      ],
      "metadata": {
        "id": "ZPyzMOsti14X"
      }
    },
    {
      "cell_type": "code",
      "metadata": {
        "id": "UjsN05ksZYZ7",
        "colab": {
          "base_uri": "https://localhost:8080/"
        },
        "outputId": "4284861c-0f9b-4557-9339-5fa7f9d06502"
      },
      "source": [
        "from numpy import random\n",
        "walk_types = ['line', 'sphere']\n",
        "latent_walk_path = project_path / 'out' / 'latent_walk'\n",
        "if not latent_walk_path.is_dir():\n",
        "    %mkdir \"{latent_walk_path}\"\n",
        "\n",
        "explored_network = '/content/drive/MyDrive/StyleGAN2-ADA/training/pokemon_500/network-snapshot-000330.pkl'#'ffhq1024'\n",
        "\n",
        "seeds = [random.randint(10000) for i in range(3)]\n",
        "print(\"Base seeds:\", seeds)\n",
        "!python \"{stylegan2_repo_path / 'generate.py'}\" generate-latent-walk --network=\"{explored_network}\" \\\n",
        "    --outdir=\"{latent_walk_path}\" --trunc=0.5 --walk-type=\"{walk_types[0]}\" \\\n",
        "    --seeds={','.join(map(str, seeds))} --frames {len(seeds)*30}"
      ],
      "execution_count": null,
      "outputs": [
        {
          "output_type": "stream",
          "name": "stdout",
          "text": [
            "Base seeds: [8474, 6171, 3046]\n",
            "Loading networks from \"/content/drive/MyDrive/StyleGAN2-ADA/training/pokemon_500/network-snapshot-000330.pkl\"...\n",
            "Setting up TensorFlow plugin \"fused_bias_act.cu\": Loading... Done.\n",
            "Setting up TensorFlow plugin \"upfirdn_2d.cu\": Loading... Done.\n",
            "Generating image for step 0/92 ...\n",
            "Generating image for step 1/92 ...\n",
            "Generating image for step 2/92 ...\n",
            "Generating image for step 3/92 ...\n",
            "Generating image for step 4/92 ...\n",
            "Generating image for step 5/92 ...\n",
            "Generating image for step 6/92 ...\n",
            "Generating image for step 7/92 ...\n",
            "Generating image for step 8/92 ...\n",
            "Generating image for step 9/92 ...\n",
            "Generating image for step 10/92 ...\n",
            "Generating image for step 11/92 ...\n",
            "Generating image for step 12/92 ...\n",
            "Generating image for step 13/92 ...\n",
            "Generating image for step 14/92 ...\n",
            "Generating image for step 15/92 ...\n",
            "Generating image for step 16/92 ...\n",
            "Generating image for step 17/92 ...\n",
            "Generating image for step 18/92 ...\n",
            "Generating image for step 19/92 ...\n",
            "Generating image for step 20/92 ...\n",
            "Generating image for step 21/92 ...\n",
            "Generating image for step 22/92 ...\n",
            "Generating image for step 23/92 ...\n",
            "Generating image for step 24/92 ...\n",
            "Generating image for step 25/92 ...\n",
            "Generating image for step 26/92 ...\n",
            "Generating image for step 27/92 ...\n",
            "Generating image for step 28/92 ...\n",
            "Generating image for step 29/92 ...\n",
            "Generating image for step 30/92 ...\n",
            "Generating image for step 31/92 ...\n",
            "Generating image for step 32/92 ...\n",
            "Generating image for step 33/92 ...\n",
            "Generating image for step 34/92 ...\n",
            "Generating image for step 35/92 ...\n",
            "Generating image for step 36/92 ...\n",
            "Generating image for step 37/92 ...\n",
            "Generating image for step 38/92 ...\n",
            "Generating image for step 39/92 ...\n",
            "Generating image for step 40/92 ...\n",
            "Generating image for step 41/92 ...\n",
            "Generating image for step 42/92 ...\n",
            "Generating image for step 43/92 ...\n",
            "Generating image for step 44/92 ...\n",
            "Generating image for step 45/92 ...\n",
            "Generating image for step 46/92 ...\n",
            "Generating image for step 47/92 ...\n",
            "Generating image for step 48/92 ...\n",
            "Generating image for step 49/92 ...\n",
            "Generating image for step 50/92 ...\n",
            "Generating image for step 51/92 ...\n",
            "Generating image for step 52/92 ...\n",
            "Generating image for step 53/92 ...\n",
            "Generating image for step 54/92 ...\n",
            "Generating image for step 55/92 ...\n",
            "Generating image for step 56/92 ...\n",
            "Generating image for step 57/92 ...\n",
            "Generating image for step 58/92 ...\n",
            "Generating image for step 59/92 ...\n",
            "Generating image for step 60/92 ...\n",
            "Generating image for step 61/92 ...\n",
            "Generating image for step 62/92 ...\n",
            "Generating image for step 63/92 ...\n",
            "Generating image for step 64/92 ...\n",
            "Generating image for step 65/92 ...\n",
            "Generating image for step 66/92 ...\n",
            "Generating image for step 67/92 ...\n",
            "Generating image for step 68/92 ...\n",
            "Generating image for step 69/92 ...\n",
            "Generating image for step 70/92 ...\n",
            "Generating image for step 71/92 ...\n",
            "Generating image for step 72/92 ...\n",
            "Generating image for step 73/92 ...\n",
            "Generating image for step 74/92 ...\n",
            "Generating image for step 75/92 ...\n",
            "Generating image for step 76/92 ...\n",
            "Generating image for step 77/92 ...\n",
            "Generating image for step 78/92 ...\n",
            "Generating image for step 79/92 ...\n",
            "Generating image for step 80/92 ...\n",
            "Generating image for step 81/92 ...\n",
            "Generating image for step 82/92 ...\n",
            "Generating image for step 83/92 ...\n",
            "Generating image for step 84/92 ...\n",
            "Generating image for step 85/92 ...\n",
            "Generating image for step 86/92 ...\n",
            "Generating image for step 87/92 ...\n",
            "Generating image for step 88/92 ...\n",
            "Generating image for step 89/92 ...\n",
            "Generating image for step 90/92 ...\n",
            "Generating image for step 91/92 ...\n",
            "ffmpeg version 3.4.11-0ubuntu0.1 Copyright (c) 2000-2022 the FFmpeg developers\n",
            "  built with gcc 7 (Ubuntu 7.5.0-3ubuntu1~18.04)\n",
            "  configuration: --prefix=/usr --extra-version=0ubuntu0.1 --toolchain=hardened --libdir=/usr/lib/x86_64-linux-gnu --incdir=/usr/include/x86_64-linux-gnu --enable-gpl --disable-stripping --enable-avresample --enable-avisynth --enable-gnutls --enable-ladspa --enable-libass --enable-libbluray --enable-libbs2b --enable-libcaca --enable-libcdio --enable-libflite --enable-libfontconfig --enable-libfreetype --enable-libfribidi --enable-libgme --enable-libgsm --enable-libmp3lame --enable-libmysofa --enable-libopenjpeg --enable-libopenmpt --enable-libopus --enable-libpulse --enable-librubberband --enable-librsvg --enable-libshine --enable-libsnappy --enable-libsoxr --enable-libspeex --enable-libssh --enable-libtheora --enable-libtwolame --enable-libvorbis --enable-libvpx --enable-libwavpack --enable-libwebp --enable-libx265 --enable-libxml2 --enable-libxvid --enable-libzmq --enable-libzvbi --enable-omx --enable-openal --enable-opengl --enable-sdl2 --enable-libdc1394 --enable-libdrm --enable-libiec61883 --enable-chromaprint --enable-frei0r --enable-libopencv --enable-libx264 --enable-shared\n",
            "  libavutil      55. 78.100 / 55. 78.100\n",
            "  libavcodec     57.107.100 / 57.107.100\n",
            "  libavformat    57. 83.100 / 57. 83.100\n",
            "  libavdevice    57. 10.100 / 57. 10.100\n",
            "  libavfilter     6.107.100 /  6.107.100\n",
            "  libavresample   3.  7.  0 /  3.  7.  0\n",
            "  libswscale      4.  8.100 /  4.  8.100\n",
            "  libswresample   2.  9.100 /  2.  9.100\n",
            "  libpostproc    54.  7.100 / 54.  7.100\n",
            "Input #0, image2, from '/content/drive/MyDrive/StyleGAN2-ADA/out/latent_walk/frames/frame%05d.png':\n",
            "  Duration: 00:00:03.68, start: 0.000000, bitrate: N/A\n",
            "    Stream #0:0: Video: png, rgb24(pc), 256x256, 25 fps, 25 tbr, 25 tbn, 25 tbc\n",
            "Stream mapping:\n",
            "  Stream #0:0 -> #0:0 (png (native) -> h264 (libx264))\n",
            "Press [q] to stop, [?] for help\n",
            "\u001b[1;36m[libx264 @ 0x560a747f9e00] \u001b[0musing cpu capabilities: MMX2 SSE2Fast SSSE3 SSE4.2 AVX FMA3 BMI2 AVX2\n",
            "\u001b[1;36m[libx264 @ 0x560a747f9e00] \u001b[0mprofile High, level 1.3\n",
            "\u001b[1;36m[libx264 @ 0x560a747f9e00] \u001b[0m264 - core 152 r2854 e9a5903 - H.264/MPEG-4 AVC codec - Copyleft 2003-2017 - http://www.videolan.org/x264.html - options: cabac=1 ref=3 deblock=1:0:0 analyse=0x3:0x113 me=hex subme=7 psy=1 psy_rd=1.00:0.00 mixed_ref=1 me_range=16 chroma_me=1 trellis=1 8x8dct=1 cqm=0 deadzone=21,11 fast_pskip=1 chroma_qp_offset=-2 threads=3 lookahead_threads=1 sliced_threads=0 nr=0 decimate=1 interlaced=0 bluray_compat=0 constrained_intra=0 bframes=3 b_pyramid=2 b_adapt=1 b_bias=0 direct=1 weightb=1 open_gop=0 weightp=2 keyint=250 keyint_min=24 scenecut=40 intra_refresh=0 rc_lookahead=40 rc=crf mbtree=1 crf=23.0 qcomp=0.60 qpmin=0 qpmax=69 qpstep=4 ip_ratio=1.40 aq=1:1.00\n",
            "Output #0, mp4, to '/content/drive/MyDrive/StyleGAN2-ADA/out/latent_walk/walk-z-line-seed0-24fps.mp4':\n",
            "  Metadata:\n",
            "    encoder         : Lavf57.83.100\n",
            "    Stream #0:0: Video: h264 (libx264) (avc1 / 0x31637661), yuv420p, 256x256, q=-1--1, 24 fps, 12288 tbn, 24 tbc\n",
            "    Metadata:\n",
            "      encoder         : Lavc57.107.100 libx264\n",
            "    Side data:\n",
            "      cpb: bitrate max/min/avg: 0/0/0 buffer size: 0 vbv_delay: -1\n",
            "frame=   92 fps=0.0 q=-1.0 Lsize=      84kB time=00:00:03.70 bitrate= 186.2kbits/s speed=13.2x    \n",
            "video:83kB audio:0kB subtitle:0kB other streams:0kB global headers:0kB muxing overhead: 1.930502%\n",
            "\u001b[1;36m[libx264 @ 0x560a747f9e00] \u001b[0mframe I:1     Avg QP:19.04  size:  2539\n",
            "\u001b[1;36m[libx264 @ 0x560a747f9e00] \u001b[0mframe P:58    Avg QP:24.27  size:  1184\n",
            "\u001b[1;36m[libx264 @ 0x560a747f9e00] \u001b[0mframe B:33    Avg QP:28.74  size:   388\n",
            "\u001b[1;36m[libx264 @ 0x560a747f9e00] \u001b[0mconsecutive B-frames: 50.0%  6.5%  0.0% 43.5%\n",
            "\u001b[1;36m[libx264 @ 0x560a747f9e00] \u001b[0mmb I  I16..4: 18.0% 69.5% 12.5%\n",
            "\u001b[1;36m[libx264 @ 0x560a747f9e00] \u001b[0mmb P  I16..4:  0.8%  2.0%  0.4%  P16..4: 15.6%  8.3%  7.5%  0.0%  0.0%    skip:65.4%\n",
            "\u001b[1;36m[libx264 @ 0x560a747f9e00] \u001b[0mmb B  I16..4:  0.0%  0.5%  0.0%  B16..8: 12.3%  2.9%  1.7%  direct: 4.7%  skip:77.9%  L0:27.1% L1:51.9% BI:21.0%\n",
            "\u001b[1;36m[libx264 @ 0x560a747f9e00] \u001b[0m8x8 transform intra:67.4% inter:34.4%\n",
            "\u001b[1;36m[libx264 @ 0x560a747f9e00] \u001b[0mcoded y,uvDC,uvAC intra: 15.0% 10.5% 8.2% inter: 12.0% 7.6% 2.7%\n",
            "\u001b[1;36m[libx264 @ 0x560a747f9e00] \u001b[0mi16 v,h,dc,p: 48% 46%  6%  1%\n",
            "\u001b[1;36m[libx264 @ 0x560a747f9e00] \u001b[0mi8 v,h,dc,ddl,ddr,vr,hd,vl,hu: 16%  6% 72%  1%  1%  2%  1%  1%  1%\n",
            "\u001b[1;36m[libx264 @ 0x560a747f9e00] \u001b[0mi4 v,h,dc,ddl,ddr,vr,hd,vl,hu: 24% 11% 31%  6%  7%  5%  5%  5%  5%\n",
            "\u001b[1;36m[libx264 @ 0x560a747f9e00] \u001b[0mi8c dc,h,v,p: 84%  7%  8%  1%\n",
            "\u001b[1;36m[libx264 @ 0x560a747f9e00] \u001b[0mWeighted P-Frames: Y:1.7% UV:1.7%\n",
            "\u001b[1;36m[libx264 @ 0x560a747f9e00] \u001b[0mref P L0: 77.8% 14.7%  4.6%  2.8%  0.0%\n",
            "\u001b[1;36m[libx264 @ 0x560a747f9e00] \u001b[0mref B L0: 87.0%  9.1%  3.9%\n",
            "\u001b[1;36m[libx264 @ 0x560a747f9e00] \u001b[0mref B L1: 96.7%  3.3%\n",
            "\u001b[1;36m[libx264 @ 0x560a747f9e00] \u001b[0mkb/s:175.31\n"
          ]
        }
      ]
    },
    {
      "cell_type": "markdown",
      "source": [
        "### Explore around a single seed"
      ],
      "metadata": {
        "id": "OzFpkE7ZjAm3"
      }
    },
    {
      "cell_type": "code",
      "source": [
        "from numpy import random\n",
        "walk_types = ['noiseloop', 'circularloop']\n",
        "\n",
        "latent_walk_path = project_path / 'out' / 'latent_walk'\n",
        "if not latent_walk_path.is_dir():\n",
        "    %mkdir \"{latent_walk_path}\"\n",
        "\n",
        "#explored_network = 'f256'\n",
        "\n",
        "start_seed = random.randint(10000)\n",
        "\n",
        "!python \"{stylegan2_repo_path / 'generate.py'}\" generate-latent-walk --network=\"{explored_network}\" \\\n",
        "    --outdir=\"{latent_walk_path}\" --trunc=0.4 --walk-type==\"{walk_types[1]}\" \\\n",
        "    --start_seed=\"{start_seed}\" --diameter=20 --frames {24*5}"
      ],
      "metadata": {
        "id": "xuGWYW1bi_W7",
        "colab": {
          "base_uri": "https://localhost:8080/"
        },
        "outputId": "f60603b0-1a84-4b8a-add7-4b546a3567b7"
      },
      "execution_count": null,
      "outputs": [
        {
          "output_type": "stream",
          "name": "stdout",
          "text": [
            "Loading networks from \"/content/drive/MyDrive/StyleGAN2-ADA/training/pokemon_500/network-snapshot-000330.pkl\"...\n",
            "Setting up TensorFlow plugin \"fused_bias_act.cu\": Loading... Done.\n",
            "Setting up TensorFlow plugin \"upfirdn_2d.cu\": Loading... Done.\n",
            "Traceback (most recent call last):\n",
            "  File \"/content/drive/MyDrive/StyleGAN2-ADA/stylegan2-ada/generate.py\", line 814, in <module>\n",
            "    main()\n",
            "  File \"/content/drive/MyDrive/StyleGAN2-ADA/stylegan2-ada/generate.py\", line 809, in main\n",
            "    func(**kwargs)\n",
            "  File \"/content/drive/MyDrive/StyleGAN2-ADA/stylegan2-ada/generate.py\", line 470, in generate_latent_walk\n",
            "    generate_latent_images(points, truncation_psi, outdir, save_vector,'frame', seed_out, framerate)\n",
            "UnboundLocalError: local variable 'points' referenced before assignment\n"
          ]
        }
      ]
    }
  ]
}